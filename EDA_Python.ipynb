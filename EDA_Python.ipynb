{
 "cells": [
  {
   "cell_type": "code",
   "execution_count": 1,
   "metadata": {},
   "outputs": [],
   "source": [
    "#Import the required packages\n",
    "import pandas as pd\n",
    "import numpy as np\n",
    "import matplotlib.pyplot as plt"
   ]
  },
  {
   "cell_type": "markdown",
   "metadata": {},
   "source": [
    "## Reading data"
   ]
  },
  {
   "cell_type": "code",
   "execution_count": 2,
   "metadata": {},
   "outputs": [
    {
     "data": {
      "text/html": [
       "<div>\n",
       "<style scoped>\n",
       "    .dataframe tbody tr th:only-of-type {\n",
       "        vertical-align: middle;\n",
       "    }\n",
       "\n",
       "    .dataframe tbody tr th {\n",
       "        vertical-align: top;\n",
       "    }\n",
       "\n",
       "    .dataframe thead th {\n",
       "        text-align: right;\n",
       "    }\n",
       "</style>\n",
       "<table border=\"1\" class=\"dataframe\">\n",
       "  <thead>\n",
       "    <tr style=\"text-align: right;\">\n",
       "      <th></th>\n",
       "      <th>episode_run_time</th>\n",
       "      <th>first_air_date</th>\n",
       "      <th>networks</th>\n",
       "      <th>number_of_seasons</th>\n",
       "      <th>original_name</th>\n",
       "      <th>production_companies</th>\n",
       "      <th>firstStar</th>\n",
       "      <th>secondStar</th>\n",
       "      <th>thirdStar</th>\n",
       "      <th>writer</th>\n",
       "      <th>director</th>\n",
       "      <th>musician</th>\n",
       "      <th>genre1</th>\n",
       "      <th>genre2</th>\n",
       "      <th>createdBy</th>\n",
       "      <th>air_time</th>\n",
       "      <th>adaptation</th>\n",
       "      <th>year</th>\n",
       "    </tr>\n",
       "  </thead>\n",
       "  <tbody>\n",
       "    <tr>\n",
       "      <th>0</th>\n",
       "      <td>130.0</td>\n",
       "      <td>1/15/2020 0:00</td>\n",
       "      <td>Show TV</td>\n",
       "      <td>1</td>\n",
       "      <td>Zemheri</td>\n",
       "      <td>ay yapım</td>\n",
       "      <td>Emir Çubukçu</td>\n",
       "      <td>Ayça Ayşin Turan</td>\n",
       "      <td>Alperen Duymaz</td>\n",
       "      <td>sema ergenekon</td>\n",
       "      <td>hilal saral</td>\n",
       "      <td>toygar işıklı</td>\n",
       "      <td>Drama</td>\n",
       "      <td>No second genre</td>\n",
       "      <td>kerem çatay</td>\n",
       "      <td>20</td>\n",
       "      <td>0.0</td>\n",
       "      <td>2020</td>\n",
       "    </tr>\n",
       "    <tr>\n",
       "      <th>1</th>\n",
       "      <td>130.0</td>\n",
       "      <td>2/13/2019 0:00</td>\n",
       "      <td>Star TV</td>\n",
       "      <td>2</td>\n",
       "      <td>Kuzgun</td>\n",
       "      <td>ay yapım</td>\n",
       "      <td>Barış Arduç</td>\n",
       "      <td>Burcu Biricik</td>\n",
       "      <td>Nilperi Şahinkaya</td>\n",
       "      <td>burcu görgün toptaş ,özlem yılmaz</td>\n",
       "      <td>bahadır i̇nce</td>\n",
       "      <td>toygar işıklı</td>\n",
       "      <td>Action &amp; Adventure</td>\n",
       "      <td>Drama</td>\n",
       "      <td>kerem çatay</td>\n",
       "      <td>20</td>\n",
       "      <td>1.0</td>\n",
       "      <td>2019</td>\n",
       "    </tr>\n",
       "    <tr>\n",
       "      <th>2</th>\n",
       "      <td>130.0</td>\n",
       "      <td>3/9/2019</td>\n",
       "      <td>FOX</td>\n",
       "      <td>2</td>\n",
       "      <td>Bir Aile Hikayesi</td>\n",
       "      <td>med yapım</td>\n",
       "      <td>Songül Öden</td>\n",
       "      <td>Birkan Sokullu</td>\n",
       "      <td>Celil Nalçakan</td>\n",
       "      <td>deniz madanoğlu</td>\n",
       "      <td>merve girgin</td>\n",
       "      <td>cem öget</td>\n",
       "      <td>Drama</td>\n",
       "      <td>Family</td>\n",
       "      <td>fatih aksoy</td>\n",
       "      <td>20</td>\n",
       "      <td>1.0</td>\n",
       "      <td>2019</td>\n",
       "    </tr>\n",
       "    <tr>\n",
       "      <th>3</th>\n",
       "      <td>120.0</td>\n",
       "      <td>11/22/2019</td>\n",
       "      <td>FOX</td>\n",
       "      <td>1</td>\n",
       "      <td>Ferhat ile Şirin</td>\n",
       "      <td>o3 medya,artistanbul</td>\n",
       "      <td>Cansu Dere</td>\n",
       "      <td>Tolga Sarıtaş</td>\n",
       "      <td>Leyla Tanlar</td>\n",
       "      <td>savaş korkmaz</td>\n",
       "      <td>mehmet ada öztekin</td>\n",
       "      <td>hasan özsüt</td>\n",
       "      <td>Drama</td>\n",
       "      <td>Romantic</td>\n",
       "      <td>saner ayar,ömer durak,mine yilmaz,cengiz çagatay</td>\n",
       "      <td>20</td>\n",
       "      <td>1.0</td>\n",
       "      <td>2019</td>\n",
       "    </tr>\n",
       "    <tr>\n",
       "      <th>4</th>\n",
       "      <td>120.0</td>\n",
       "      <td>9/14/2019</td>\n",
       "      <td>Show TV</td>\n",
       "      <td>1</td>\n",
       "      <td>Gülperi</td>\n",
       "      <td>tims productions,bi yapım</td>\n",
       "      <td>Nurgül Yeşilçay</td>\n",
       "      <td>Timuçin Esen</td>\n",
       "      <td>Tarık Papuççuoğlu</td>\n",
       "      <td>sema ergenekon ,eylem canpolat</td>\n",
       "      <td>metin balekoğlu</td>\n",
       "      <td>cem öget</td>\n",
       "      <td>Drama</td>\n",
       "      <td>Family</td>\n",
       "      <td>timur savcı,burak sağyaşar</td>\n",
       "      <td>20</td>\n",
       "      <td>0.0</td>\n",
       "      <td>2019</td>\n",
       "    </tr>\n",
       "  </tbody>\n",
       "</table>\n",
       "</div>"
      ],
      "text/plain": [
       "   episode_run_time  first_air_date networks  number_of_seasons  \\\n",
       "0             130.0  1/15/2020 0:00  Show TV                  1   \n",
       "1             130.0  2/13/2019 0:00  Star TV                  2   \n",
       "2             130.0        3/9/2019      FOX                  2   \n",
       "3             120.0      11/22/2019      FOX                  1   \n",
       "4             120.0       9/14/2019  Show TV                  1   \n",
       "\n",
       "       original_name       production_companies        firstStar  \\\n",
       "0            Zemheri                   ay yapım     Emir Çubukçu   \n",
       "1             Kuzgun                   ay yapım      Barış Arduç   \n",
       "2  Bir Aile Hikayesi                  med yapım      Songül Öden   \n",
       "3   Ferhat ile Şirin       o3 medya,artistanbul       Cansu Dere   \n",
       "4            Gülperi  tims productions,bi yapım  Nurgül Yeşilçay   \n",
       "\n",
       "         secondStar          thirdStar                             writer  \\\n",
       "0  Ayça Ayşin Turan     Alperen Duymaz                     sema ergenekon   \n",
       "1     Burcu Biricik  Nilperi Şahinkaya  burcu görgün toptaş ,özlem yılmaz   \n",
       "2    Birkan Sokullu     Celil Nalçakan                    deniz madanoğlu   \n",
       "3     Tolga Sarıtaş       Leyla Tanlar                      savaş korkmaz   \n",
       "4      Timuçin Esen  Tarık Papuççuoğlu     sema ergenekon ,eylem canpolat   \n",
       "\n",
       "             director       musician              genre1           genre2  \\\n",
       "0         hilal saral  toygar işıklı               Drama  No second genre   \n",
       "1       bahadır i̇nce  toygar işıklı  Action & Adventure            Drama   \n",
       "2        merve girgin       cem öget               Drama           Family   \n",
       "3  mehmet ada öztekin    hasan özsüt               Drama         Romantic   \n",
       "4     metin balekoğlu       cem öget               Drama           Family   \n",
       "\n",
       "                                          createdBy air_time  adaptation  year  \n",
       "0                                       kerem çatay       20         0.0  2020  \n",
       "1                                       kerem çatay       20         1.0  2019  \n",
       "2                                       fatih aksoy       20         1.0  2019  \n",
       "3  saner ayar,ömer durak,mine yilmaz,cengiz çagatay       20         1.0  2019  \n",
       "4                        timur savcı,burak sağyaşar       20         0.0  2019  "
      ]
     },
     "execution_count": 2,
     "metadata": {},
     "output_type": "execute_result"
    }
   ],
   "source": [
    "#Read the csv file of data\n",
    "df = pd.read_csv('Clean_TurkishTV_Data.csv')\n",
    "\n",
    "#Show the first five rows in the dataset\n",
    "df.head()"
   ]
  },
  {
   "cell_type": "markdown",
   "metadata": {},
   "source": [
    "## Descriptive Statistics"
   ]
  },
  {
   "cell_type": "code",
   "execution_count": 3,
   "metadata": {},
   "outputs": [
    {
     "data": {
      "text/html": [
       "<div>\n",
       "<style scoped>\n",
       "    .dataframe tbody tr th:only-of-type {\n",
       "        vertical-align: middle;\n",
       "    }\n",
       "\n",
       "    .dataframe tbody tr th {\n",
       "        vertical-align: top;\n",
       "    }\n",
       "\n",
       "    .dataframe thead th {\n",
       "        text-align: right;\n",
       "    }\n",
       "</style>\n",
       "<table border=\"1\" class=\"dataframe\">\n",
       "  <thead>\n",
       "    <tr style=\"text-align: right;\">\n",
       "      <th></th>\n",
       "      <th>episode_run_time</th>\n",
       "      <th>first_air_date</th>\n",
       "      <th>networks</th>\n",
       "      <th>number_of_seasons</th>\n",
       "      <th>original_name</th>\n",
       "      <th>production_companies</th>\n",
       "      <th>firstStar</th>\n",
       "      <th>secondStar</th>\n",
       "      <th>thirdStar</th>\n",
       "      <th>writer</th>\n",
       "      <th>director</th>\n",
       "      <th>musician</th>\n",
       "      <th>genre1</th>\n",
       "      <th>genre2</th>\n",
       "      <th>createdBy</th>\n",
       "      <th>air_time</th>\n",
       "      <th>adaptation</th>\n",
       "      <th>year</th>\n",
       "    </tr>\n",
       "  </thead>\n",
       "  <tbody>\n",
       "    <tr>\n",
       "      <th>count</th>\n",
       "      <td>443.000000</td>\n",
       "      <td>443</td>\n",
       "      <td>443</td>\n",
       "      <td>443.000000</td>\n",
       "      <td>443</td>\n",
       "      <td>443</td>\n",
       "      <td>443</td>\n",
       "      <td>443</td>\n",
       "      <td>443</td>\n",
       "      <td>443</td>\n",
       "      <td>443</td>\n",
       "      <td>443</td>\n",
       "      <td>443</td>\n",
       "      <td>443</td>\n",
       "      <td>443</td>\n",
       "      <td>443</td>\n",
       "      <td>443.000000</td>\n",
       "      <td>443.000000</td>\n",
       "    </tr>\n",
       "    <tr>\n",
       "      <th>unique</th>\n",
       "      <td>NaN</td>\n",
       "      <td>414</td>\n",
       "      <td>15</td>\n",
       "      <td>NaN</td>\n",
       "      <td>441</td>\n",
       "      <td>130</td>\n",
       "      <td>310</td>\n",
       "      <td>335</td>\n",
       "      <td>357</td>\n",
       "      <td>362</td>\n",
       "      <td>214</td>\n",
       "      <td>182</td>\n",
       "      <td>16</td>\n",
       "      <td>22</td>\n",
       "      <td>205</td>\n",
       "      <td>24</td>\n",
       "      <td>NaN</td>\n",
       "      <td>NaN</td>\n",
       "    </tr>\n",
       "    <tr>\n",
       "      <th>top</th>\n",
       "      <td>NaN</td>\n",
       "      <td>1/1/2002 0:00</td>\n",
       "      <td>Kanal D</td>\n",
       "      <td>NaN</td>\n",
       "      <td>Eyvah Babam</td>\n",
       "      <td>gold film</td>\n",
       "      <td>Uğur Yücel</td>\n",
       "      <td>Mehmet Aslantuğ</td>\n",
       "      <td>Onur Saylak</td>\n",
       "      <td>tayfun güneyer</td>\n",
       "      <td>cevdet mercan</td>\n",
       "      <td>toygar işıklı</td>\n",
       "      <td>Drama</td>\n",
       "      <td>No second genre</td>\n",
       "      <td>faruk turgut</td>\n",
       "      <td>20</td>\n",
       "      <td>NaN</td>\n",
       "      <td>NaN</td>\n",
       "    </tr>\n",
       "    <tr>\n",
       "      <th>freq</th>\n",
       "      <td>NaN</td>\n",
       "      <td>4</td>\n",
       "      <td>113</td>\n",
       "      <td>NaN</td>\n",
       "      <td>2</td>\n",
       "      <td>29</td>\n",
       "      <td>5</td>\n",
       "      <td>5</td>\n",
       "      <td>4</td>\n",
       "      <td>8</td>\n",
       "      <td>9</td>\n",
       "      <td>28</td>\n",
       "      <td>221</td>\n",
       "      <td>104</td>\n",
       "      <td>23</td>\n",
       "      <td>385</td>\n",
       "      <td>NaN</td>\n",
       "      <td>NaN</td>\n",
       "    </tr>\n",
       "    <tr>\n",
       "      <th>mean</th>\n",
       "      <td>97.680587</td>\n",
       "      <td>NaN</td>\n",
       "      <td>NaN</td>\n",
       "      <td>1.882619</td>\n",
       "      <td>NaN</td>\n",
       "      <td>NaN</td>\n",
       "      <td>NaN</td>\n",
       "      <td>NaN</td>\n",
       "      <td>NaN</td>\n",
       "      <td>NaN</td>\n",
       "      <td>NaN</td>\n",
       "      <td>NaN</td>\n",
       "      <td>NaN</td>\n",
       "      <td>NaN</td>\n",
       "      <td>NaN</td>\n",
       "      <td>NaN</td>\n",
       "      <td>0.148984</td>\n",
       "      <td>2011.932280</td>\n",
       "    </tr>\n",
       "    <tr>\n",
       "      <th>std</th>\n",
       "      <td>27.612217</td>\n",
       "      <td>NaN</td>\n",
       "      <td>NaN</td>\n",
       "      <td>1.426872</td>\n",
       "      <td>NaN</td>\n",
       "      <td>NaN</td>\n",
       "      <td>NaN</td>\n",
       "      <td>NaN</td>\n",
       "      <td>NaN</td>\n",
       "      <td>NaN</td>\n",
       "      <td>NaN</td>\n",
       "      <td>NaN</td>\n",
       "      <td>NaN</td>\n",
       "      <td>NaN</td>\n",
       "      <td>NaN</td>\n",
       "      <td>NaN</td>\n",
       "      <td>0.356475</td>\n",
       "      <td>5.879246</td>\n",
       "    </tr>\n",
       "    <tr>\n",
       "      <th>min</th>\n",
       "      <td>9.000000</td>\n",
       "      <td>NaN</td>\n",
       "      <td>NaN</td>\n",
       "      <td>1.000000</td>\n",
       "      <td>NaN</td>\n",
       "      <td>NaN</td>\n",
       "      <td>NaN</td>\n",
       "      <td>NaN</td>\n",
       "      <td>NaN</td>\n",
       "      <td>NaN</td>\n",
       "      <td>NaN</td>\n",
       "      <td>NaN</td>\n",
       "      <td>NaN</td>\n",
       "      <td>NaN</td>\n",
       "      <td>NaN</td>\n",
       "      <td>NaN</td>\n",
       "      <td>0.000000</td>\n",
       "      <td>1993.000000</td>\n",
       "    </tr>\n",
       "    <tr>\n",
       "      <th>25%</th>\n",
       "      <td>90.000000</td>\n",
       "      <td>NaN</td>\n",
       "      <td>NaN</td>\n",
       "      <td>1.000000</td>\n",
       "      <td>NaN</td>\n",
       "      <td>NaN</td>\n",
       "      <td>NaN</td>\n",
       "      <td>NaN</td>\n",
       "      <td>NaN</td>\n",
       "      <td>NaN</td>\n",
       "      <td>NaN</td>\n",
       "      <td>NaN</td>\n",
       "      <td>NaN</td>\n",
       "      <td>NaN</td>\n",
       "      <td>NaN</td>\n",
       "      <td>NaN</td>\n",
       "      <td>0.000000</td>\n",
       "      <td>2008.000000</td>\n",
       "    </tr>\n",
       "    <tr>\n",
       "      <th>50%</th>\n",
       "      <td>100.000000</td>\n",
       "      <td>NaN</td>\n",
       "      <td>NaN</td>\n",
       "      <td>1.000000</td>\n",
       "      <td>NaN</td>\n",
       "      <td>NaN</td>\n",
       "      <td>NaN</td>\n",
       "      <td>NaN</td>\n",
       "      <td>NaN</td>\n",
       "      <td>NaN</td>\n",
       "      <td>NaN</td>\n",
       "      <td>NaN</td>\n",
       "      <td>NaN</td>\n",
       "      <td>NaN</td>\n",
       "      <td>NaN</td>\n",
       "      <td>NaN</td>\n",
       "      <td>0.000000</td>\n",
       "      <td>2013.000000</td>\n",
       "    </tr>\n",
       "    <tr>\n",
       "      <th>75%</th>\n",
       "      <td>120.000000</td>\n",
       "      <td>NaN</td>\n",
       "      <td>NaN</td>\n",
       "      <td>2.000000</td>\n",
       "      <td>NaN</td>\n",
       "      <td>NaN</td>\n",
       "      <td>NaN</td>\n",
       "      <td>NaN</td>\n",
       "      <td>NaN</td>\n",
       "      <td>NaN</td>\n",
       "      <td>NaN</td>\n",
       "      <td>NaN</td>\n",
       "      <td>NaN</td>\n",
       "      <td>NaN</td>\n",
       "      <td>NaN</td>\n",
       "      <td>NaN</td>\n",
       "      <td>0.000000</td>\n",
       "      <td>2017.000000</td>\n",
       "    </tr>\n",
       "    <tr>\n",
       "      <th>max</th>\n",
       "      <td>170.000000</td>\n",
       "      <td>NaN</td>\n",
       "      <td>NaN</td>\n",
       "      <td>14.000000</td>\n",
       "      <td>NaN</td>\n",
       "      <td>NaN</td>\n",
       "      <td>NaN</td>\n",
       "      <td>NaN</td>\n",
       "      <td>NaN</td>\n",
       "      <td>NaN</td>\n",
       "      <td>NaN</td>\n",
       "      <td>NaN</td>\n",
       "      <td>NaN</td>\n",
       "      <td>NaN</td>\n",
       "      <td>NaN</td>\n",
       "      <td>NaN</td>\n",
       "      <td>1.000000</td>\n",
       "      <td>2020.000000</td>\n",
       "    </tr>\n",
       "  </tbody>\n",
       "</table>\n",
       "</div>"
      ],
      "text/plain": [
       "        episode_run_time first_air_date networks  number_of_seasons  \\\n",
       "count         443.000000            443      443         443.000000   \n",
       "unique               NaN            414       15                NaN   \n",
       "top                  NaN  1/1/2002 0:00  Kanal D                NaN   \n",
       "freq                 NaN              4      113                NaN   \n",
       "mean           97.680587            NaN      NaN           1.882619   \n",
       "std            27.612217            NaN      NaN           1.426872   \n",
       "min             9.000000            NaN      NaN           1.000000   \n",
       "25%            90.000000            NaN      NaN           1.000000   \n",
       "50%           100.000000            NaN      NaN           1.000000   \n",
       "75%           120.000000            NaN      NaN           2.000000   \n",
       "max           170.000000            NaN      NaN          14.000000   \n",
       "\n",
       "       original_name production_companies   firstStar       secondStar  \\\n",
       "count            443                  443         443              443   \n",
       "unique           441                  130         310              335   \n",
       "top      Eyvah Babam            gold film  Uğur Yücel  Mehmet Aslantuğ   \n",
       "freq               2                   29           5                5   \n",
       "mean             NaN                  NaN         NaN              NaN   \n",
       "std              NaN                  NaN         NaN              NaN   \n",
       "min              NaN                  NaN         NaN              NaN   \n",
       "25%              NaN                  NaN         NaN              NaN   \n",
       "50%              NaN                  NaN         NaN              NaN   \n",
       "75%              NaN                  NaN         NaN              NaN   \n",
       "max              NaN                  NaN         NaN              NaN   \n",
       "\n",
       "          thirdStar          writer       director       musician genre1  \\\n",
       "count           443             443            443            443    443   \n",
       "unique          357             362            214            182     16   \n",
       "top     Onur Saylak  tayfun güneyer  cevdet mercan  toygar işıklı  Drama   \n",
       "freq              4               8              9             28    221   \n",
       "mean            NaN             NaN            NaN            NaN    NaN   \n",
       "std             NaN             NaN            NaN            NaN    NaN   \n",
       "min             NaN             NaN            NaN            NaN    NaN   \n",
       "25%             NaN             NaN            NaN            NaN    NaN   \n",
       "50%             NaN             NaN            NaN            NaN    NaN   \n",
       "75%             NaN             NaN            NaN            NaN    NaN   \n",
       "max             NaN             NaN            NaN            NaN    NaN   \n",
       "\n",
       "                 genre2     createdBy air_time  adaptation         year  \n",
       "count               443           443      443  443.000000   443.000000  \n",
       "unique               22           205       24         NaN          NaN  \n",
       "top     No second genre  faruk turgut       20         NaN          NaN  \n",
       "freq                104            23      385         NaN          NaN  \n",
       "mean                NaN           NaN      NaN    0.148984  2011.932280  \n",
       "std                 NaN           NaN      NaN    0.356475     5.879246  \n",
       "min                 NaN           NaN      NaN    0.000000  1993.000000  \n",
       "25%                 NaN           NaN      NaN    0.000000  2008.000000  \n",
       "50%                 NaN           NaN      NaN    0.000000  2013.000000  \n",
       "75%                 NaN           NaN      NaN    0.000000  2017.000000  \n",
       "max                 NaN           NaN      NaN    1.000000  2020.000000  "
      ]
     },
     "execution_count": 3,
     "metadata": {},
     "output_type": "execute_result"
    }
   ],
   "source": [
    "#Looking at descriptive statistic parameters for the dataset.\n",
    "df.describe(include='all')"
   ]
  },
  {
   "cell_type": "markdown",
   "metadata": {},
   "source": [
    "For numerical parameters, fields like mean, standard deviation, percentiles, and maximum have been populated. For categorical features, count, unique, top (most frequent value), and corresponding frequency have been populated. This gives us a broad idea of our dataset."
   ]
  },
  {
   "cell_type": "markdown",
   "metadata": {},
   "source": [
    "## Missing value imputation"
   ]
  },
  {
   "cell_type": "markdown",
   "metadata": {},
   "source": [
    "This step has been done in the Data Cleaning notebook!"
   ]
  },
  {
   "cell_type": "code",
   "execution_count": 4,
   "metadata": {},
   "outputs": [
    {
     "data": {
      "text/plain": [
       "episode_run_time        0\n",
       "first_air_date          0\n",
       "networks                0\n",
       "number_of_seasons       0\n",
       "original_name           0\n",
       "production_companies    0\n",
       "firstStar               0\n",
       "secondStar              0\n",
       "thirdStar               0\n",
       "writer                  0\n",
       "director                0\n",
       "musician                0\n",
       "genre1                  0\n",
       "genre2                  0\n",
       "createdBy               0\n",
       "air_time                0\n",
       "adaptation              0\n",
       "year                    0\n",
       "dtype: int64"
      ]
     },
     "execution_count": 4,
     "metadata": {},
     "output_type": "execute_result"
    }
   ],
   "source": [
    "#Show the number of missing values in each column in the dataset\n",
    "df.isnull().sum()"
   ]
  },
  {
   "cell_type": "markdown",
   "metadata": {},
   "source": [
    "## Graphical representation"
   ]
  },
  {
   "cell_type": "markdown",
   "metadata": {},
   "source": [
    "### Univariate Analysis"
   ]
  },
  {
   "cell_type": "markdown",
   "metadata": {},
   "source": [
    "The objective of univariate analysis is to derive the data, define and summarize it, and analyze the pattern present in it. In a dataset, it explores each variable separately. It is possible for two kinds of variables- Categorical and Numerical."
   ]
  },
  {
   "cell_type": "code",
   "execution_count": 5,
   "metadata": {},
   "outputs": [
    {
     "data": {
      "image/png": "[encoded data removed]",
      "text/plain": [
       "<Figure size 1440x576 with 2 Axes>"
      ]
     },
     "metadata": {
      "needs_background": "light"
     },
     "output_type": "display_data"
    }
   ],
   "source": [
    "#Subplot 1\n",
    "plt.subplot(121)\n",
    "\n",
    "# plotting a bar plot \n",
    "df['networks'].value_counts().plot(kind='bar', title='Networks That Prsented These Series TV', figsize=(20,8))\n",
    "\n",
    "# giving X and Y labels\n",
    "plt.xlabel(\"Network Name\")\n",
    "plt.ylabel(\"Numbers of Series\")\n",
    "\n",
    "#Rotate the x-axis label\n",
    "plt.xticks(rotation=90)\n",
    "\n",
    "#Subplot 2\n",
    "plt.subplot(122)\n",
    "\n",
    "# plotting a bar plot \n",
    "df['year'].value_counts().plot(kind='bar', title='Years Where These Series Presented')\n",
    "\n",
    "# giving X and Y labels\n",
    "plt.xlabel(\"Year\")\n",
    "plt.ylabel(\"Numbers of Series\")\n",
    "\n",
    "#Rotate the x-axis label\n",
    "plt.xticks(rotation=90)\n",
    "\n",
    "#Show the plot\n",
    "plt.show()"
   ]
  },
  {
   "cell_type": "markdown",
   "metadata": {},
   "source": [
    "The figures above show that most of the series in this dataset were presented on the \"Kanal D\" channel. Also, most of them were presented in the year 2018. "
   ]
  },
  {
   "cell_type": "code",
   "execution_count": 6,
   "metadata": {},
   "outputs": [
    {
     "data": {
      "image/png": "[encoded data removed]",
      "text/plain": [
       "<Figure size 432x288 with 1 Axes>"
      ]
     },
     "metadata": {
      "needs_background": "light"
     },
     "output_type": "display_data"
    }
   ],
   "source": [
    "# making the bar chart on the data\n",
    "plt.bar(['No','Yes'], df['adaptation'].value_counts())\n",
    "\n",
    "# giving title to the plot\n",
    "plt.title(\"Number of Adapted and Unadapted TV Series\")\n",
    "      \n",
    "# giving X and Y labels\n",
    "plt.xlabel(\"Adaptation\")\n",
    "plt.ylabel(\"Number of TV Series\")\n",
    "      \n",
    "# visualizing the plot\n",
    "plt.show()"
   ]
  },
  {
   "cell_type": "markdown",
   "metadata": {},
   "source": [
    "The above figure shows the number of unadapted series is more than the adapted series."
   ]
  },
  {
   "cell_type": "code",
   "execution_count": 7,
   "metadata": {},
   "outputs": [
    {
     "data": {
      "image/png": "[encoded data removed]",
      "text/plain": [
       "<Figure size 1440x360 with 2 Axes>"
      ]
     },
     "metadata": {
      "needs_background": "light"
     },
     "output_type": "display_data"
    }
   ],
   "source": [
    "#Subplot 1\n",
    "plt.subplot(121)\n",
    "\n",
    "# plotting a bar plot \n",
    "df['genre1'].value_counts().plot(kind='bar', title='Genre 1 of The Series', figsize=(20,5))\n",
    "\n",
    "# giving X and Y labels\n",
    "plt.xlabel(\"Genre\")\n",
    "plt.ylabel(\"Numbers of Series\")\n",
    "\n",
    "#Rotate the x-axis label\n",
    "plt.xticks(rotation=90)\n",
    "\n",
    "#Subplot 2\n",
    "plt.subplot(122)\n",
    "\n",
    "# plotting a bar plot \n",
    "df['genre2'].value_counts().plot(kind='bar', title='Genre 2 of The Series')\n",
    "\n",
    "# giving X and Y labels\n",
    "plt.xlabel(\"Genre\")\n",
    "plt.ylabel(\"Numbers of Series\")\n",
    "\n",
    "#Rotate the x-axis label\n",
    "plt.xticks(rotation=90)\n",
    "\n",
    "#Show the plot\n",
    "plt.show()"
   ]
  },
  {
   "cell_type": "markdown",
   "metadata": {},
   "source": [
    "The above figures show that the most common genre of Turkish series is drama :))"
   ]
  },
  {
   "cell_type": "code",
   "execution_count": 8,
   "metadata": {},
   "outputs": [
    {
     "data": {
      "image/png": "[encoded data removed]",
      "text/plain": [
       "<Figure size 576x576 with 1 Axes>"
      ]
     },
     "metadata": {
      "needs_background": "light"
     },
     "output_type": "display_data"
    }
   ],
   "source": [
    "# plotting a bar plot \n",
    "plt.figure(figsize=(8,8)) \n",
    "plt.bar(df['air_time'].unique(),df['air_time'].value_counts())\n",
    "\n",
    "# giving title to the plot\n",
    "plt.title(\"Distribution of Air Time of TV Series\")\n",
    "\n",
    "# giving X and Y labels\n",
    "plt.xlabel(\"Air Time\")\n",
    "plt.ylabel(\"Numbers of Series\")\n",
    "\n",
    "#Rotate the x-axis label\n",
    "plt.xticks(rotation=90)\n",
    "\n",
    "#Show the plot\n",
    "plt.show()"
   ]
  },
  {
   "cell_type": "markdown",
   "metadata": {},
   "source": [
    "The above figure shows that the most preferred time to show the series is 20:00 (8 p.m.)"
   ]
  },
  {
   "cell_type": "code",
   "execution_count": 9,
   "metadata": {},
   "outputs": [
    {
     "data": {
      "image/png": "[encoded data removed]",
      "text/plain": [
       "<Figure size 432x288 with 1 Axes>"
      ]
     },
     "metadata": {
      "needs_background": "light"
     },
     "output_type": "display_data"
    }
   ],
   "source": [
    "# plotting a box plot \n",
    "df[['episode_run_time']].boxplot()\n",
    "\n",
    "# giving title to the plot\n",
    "plt.title(\"Distribution of Episode Run Time of TV Series\")\n",
    "\n",
    "# giving X and Y labels\n",
    "plt.ylabel(\"Time In Minutes\")\n",
    "\n",
    "#Show the plot\n",
    "plt.show()"
   ]
  },
  {
   "cell_type": "markdown",
   "metadata": {},
   "source": [
    "The above figure shows that the average run time for the episode is 100 min (1 hour and 40 mins). It also shows there are outliers, this is due to the difference between networks! "
   ]
  },
  {
   "cell_type": "code",
   "execution_count": 10,
   "metadata": {},
   "outputs": [
    {
     "data": {
      "image/png": "[encoded data removed]",
      "text/plain": [
       "<Figure size 576x432 with 1 Axes>"
      ]
     },
     "metadata": {
      "needs_background": "light"
     },
     "output_type": "display_data"
    }
   ],
   "source": [
    "# plotting a histogram plot \n",
    "plt.figure(figsize=(8,6)) \n",
    "plt.hist(df.number_of_seasons)\n",
    "\n",
    "# giving title to the plot\n",
    "plt.title(\"Distribution of Number of Seasons of TV Series\")\n",
    "\n",
    "#Show the plot\n",
    "plt.show()"
   ]
  },
  {
   "cell_type": "markdown",
   "metadata": {},
   "source": [
    "The above figure shows that most series have shown one season only!"
   ]
  },
  {
   "cell_type": "markdown",
   "metadata": {},
   "source": [
    "### Bivariate Analysis"
   ]
  }
 ],
 "metadata": {
  "interpreter": {
   "hash": "c3f526496443251a61169c27b826dcc9e834456095f707728d98bc670896b231"
  },
  "kernelspec": {
   "display_name": "Python 3.7.6 64-bit",
   "language": "python",
   "name": "python3"
  },
  "language_info": {
   "codemirror_mode": {
    "name": "ipython",
    "version": 3
   },
   "file_extension": ".py",
   "mimetype": "text/x-python",
   "name": "python",
   "nbconvert_exporter": "python",
   "pygments_lexer": "ipython3",
   "version": "3.7.6"
  },
  "orig_nbformat": 4
 },
 "nbformat": 4,
 "nbformat_minor": 2
}
