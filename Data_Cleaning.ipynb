{
 "cells": [
  {
   "cell_type": "code",
   "execution_count": null,
   "metadata": {},
   "outputs": [],
   "source": [
    "#Import the required packages\n",
    "import pandas as pd\n",
    "import matplotlib.pyplot as plt\n",
    "import numpy as np"
   ]
  },
  {
   "cell_type": "code",
   "execution_count": null,
   "metadata": {
    "scrolled": false
   },
   "outputs": [],
   "source": [
    "#Read the csv file of data\n",
    "df = pd.read_csv('Turkish TV Series.csv')\n",
    "\n",
    "df.head()"
   ]
  },
  {
   "cell_type": "code",
   "execution_count": null,
   "metadata": {},
   "outputs": [],
   "source": [
    "df.shape"
   ]
  },
  {
   "cell_type": "code",
   "execution_count": null,
   "metadata": {
    "scrolled": true
   },
   "outputs": [],
   "source": [
    "df.info()"
   ]
  },
  {
   "cell_type": "code",
   "execution_count": null,
   "metadata": {
    "scrolled": true
   },
   "outputs": [],
   "source": [
    "df.isnull().sum()"
   ]
  },
  {
   "cell_type": "markdown",
   "metadata": {},
   "source": [
    "# Data Preprocessing"
   ]
  },
  {
   "cell_type": "markdown",
   "metadata": {},
   "source": [
    "## Add New Column (Year)"
   ]
  },
  {
   "cell_type": "code",
   "execution_count": null,
   "metadata": {},
   "outputs": [],
   "source": [
    "#Extracting the year from first_air_date column\n",
    "df['year'] = pd.DatetimeIndex(df['first_air_date']).year"
   ]
  },
  {
   "cell_type": "code",
   "execution_count": null,
   "metadata": {},
   "outputs": [],
   "source": [
    "#Show the dataframe with the year column\n",
    "df.head()"
   ]
  },
  {
   "cell_type": "code",
   "execution_count": null,
   "metadata": {},
   "outputs": [],
   "source": [
    "#Show the values of year column\n",
    "df['year'].value_counts().sort_index()\n",
    "#I did this step to ensure that the values of the year column are logically correct!"
   ]
  },
  {
   "cell_type": "markdown",
   "metadata": {},
   "source": [
    "## Rearrange the dataset based on year column"
   ]
  },
  {
   "cell_type": "code",
   "execution_count": null,
   "metadata": {},
   "outputs": [],
   "source": [
    "# Sort Dataframe rows based on \"year' \n",
    "# The data will be sorted in descending order\n",
    "df = df.sort_values(by = 'year', ascending = False)"
   ]
  },
  {
   "cell_type": "code",
   "execution_count": null,
   "metadata": {},
   "outputs": [],
   "source": [
    "#Cheak the order of the dataset by show the first 20 rows\n",
    "df.head(20)"
   ]
  },
  {
   "cell_type": "code",
   "execution_count": null,
   "metadata": {},
   "outputs": [],
   "source": [
    "#Cheak the order of the dataset by show the last 20 rows\n",
    "df.tail(20)"
   ]
  },
  {
   "cell_type": "markdown",
   "metadata": {},
   "source": [
    "# Data Cleaning"
   ]
  },
  {
   "cell_type": "code",
   "execution_count": null,
   "metadata": {
    "scrolled": true
   },
   "outputs": [],
   "source": [
    "# Look at total NaN values per column graphically\n",
    "df.isnull().sum().sort_values().plot(kind=\"barh\", title=\"Missing Values (Shape: (443, 17))\")"
   ]
  },
  {
   "cell_type": "code",
   "execution_count": null,
   "metadata": {},
   "outputs": [],
   "source": [
    "#Display all rows of the dataframe\n",
    "pd.set_option(\"max_rows\", None)"
   ]
  },
  {
   "cell_type": "markdown",
   "metadata": {},
   "source": [
    "## Fill Missing Values by Forward Technique"
   ]
  },
  {
   "cell_type": "markdown",
   "metadata": {},
   "source": [
    "### Fill production companies column"
   ]
  },
  {
   "cell_type": "code",
   "execution_count": null,
   "metadata": {},
   "outputs": [],
   "source": [
    "#Removes spaces at the beginning and end of the string values# data will be sorted in descending order\n",
    "df[\"production_companies\"] = df[\"production_companies\"].str.strip()"
   ]
  },
  {
   "cell_type": "code",
   "execution_count": null,
   "metadata": {},
   "outputs": [],
   "source": [
    "#Converts all characters to lowercase\n",
    "df['production_companies'] = df['production_companies'].str.lower()"
   ]
  },
  {
   "cell_type": "code",
   "execution_count": null,
   "metadata": {
    "scrolled": false
   },
   "outputs": [],
   "source": [
    "#Counts the unique values and present them in descending order\n",
    "df[\"production_companies\"].value_counts().sort_index()"
   ]
  },
  {
   "cell_type": "code",
   "execution_count": null,
   "metadata": {},
   "outputs": [],
   "source": [
    "#Edit some values that contain spelling mistakes to keep data consistent \n",
    "df.loc[df['production_companies'] ==\"arc film\", 'production_companies']=\"arc films\"\n",
    "df.loc[df['production_companies'] ==\"bkm film\", 'production_companies']=\"bkm\"\n",
    "df.loc[df['production_companies'] ==\"blutv\", 'production_companies']=\"blu tv\"\n",
    "df.loc[df['production_companies'] ==\"endemol shine turkey\", 'production_companies']=\"endemol shine türkiye\"\n",
    "df.loc[df['production_companies'] ==\"medyapım\", 'production_companies']=\"med yapım\"\n",
    "df.loc[df['production_companies'] ==\"mi̇a yapım\", 'production_companies']=\"mia yapım\"\n",
    "df.loc[df['production_companies'] ==\"ntc\", 'production_companies']=\"ntc medya\"\n",
    "df.loc[df['production_companies'] ==\"plato film production\", 'production_companies']=\"plato film\"\n",
    "df.loc[df['production_companies'] ==\"tükenmezkalem\", 'production_companies']=\"tükenmezkalem film\""
   ]
  },
  {
   "cell_type": "code",
   "execution_count": null,
   "metadata": {
    "scrolled": true
   },
   "outputs": [],
   "source": [
    "# Plot a histogram with bins=20 to see distribution of data before filling the missing values\n",
    "plt.figure(figsize=(40,8))\n",
    "df[\"production_companies\"].value_counts().plot(kind='bar',title=\"Bar of production companies Column with NaN Values\")"
   ]
  },
  {
   "cell_type": "code",
   "execution_count": null,
   "metadata": {},
   "outputs": [],
   "source": [
    "# Forward fill using fillna() method=\"ffill\"\n",
    "df[\"production_companies\"]=df[\"production_companies\"].fillna(method=\"ffill\")"
   ]
  },
  {
   "cell_type": "code",
   "execution_count": null,
   "metadata": {},
   "outputs": [],
   "source": [
    "#Check all missing values have been filled\n",
    "df[\"production_companies\"].isnull().sum()"
   ]
  },
  {
   "cell_type": "code",
   "execution_count": null,
   "metadata": {},
   "outputs": [],
   "source": [
    "# Plot a histogram with bins=20 to see distribution of data after filling the missing data\n",
    "plt.figure(figsize=(40,8))\n",
    "df[\"production_companies\"].value_counts().plot(kind='bar',title=\"Bar of production companies Column without NaN Values\")"
   ]
  },
  {
   "cell_type": "markdown",
   "metadata": {},
   "source": [
    "## Fill Missing Values by Backward Technique"
   ]
  },
  {
   "cell_type": "markdown",
   "metadata": {},
   "source": [
    "### Fill musician column"
   ]
  },
  {
   "cell_type": "code",
   "execution_count": null,
   "metadata": {},
   "outputs": [],
   "source": [
    "#Removes spaces at the beginning and end of the string values\n",
    "df[\"musician\"] = df.musician.str.strip()"
   ]
  },
  {
   "cell_type": "code",
   "execution_count": null,
   "metadata": {},
   "outputs": [],
   "source": [
    "#Removes the comma from the end of the string values\n",
    "df['musician'] = df['musician'].str.replace(r',$', '')"
   ]
  },
  {
   "cell_type": "code",
   "execution_count": null,
   "metadata": {},
   "outputs": [],
   "source": [
    "#Converts all characters to lowercase\n",
    "df['musician'] = df['musician'].str.lower()"
   ]
  },
  {
   "cell_type": "code",
   "execution_count": null,
   "metadata": {},
   "outputs": [],
   "source": [
    "#Removes spaces at the beginning and end of the string values after removing the comma\n",
    "df[\"musician\"] = df.musician.str.strip()"
   ]
  },
  {
   "cell_type": "code",
   "execution_count": null,
   "metadata": {
    "scrolled": false
   },
   "outputs": [],
   "source": [
    "#Counts the unique values and present them in descending order\n",
    "df[\"musician\"].value_counts().sort_index()"
   ]
  },
  {
   "cell_type": "code",
   "execution_count": null,
   "metadata": {},
   "outputs": [],
   "source": [
    "#Edit some values that contain spelling mistakes to keep data consistent \n",
    "df.loc[df['musician'] ==\"ali oytam\", 'musician']=\"ali otyam\"\n",
    "df.loc[(df['musician'] ==\"jingle tv\") | (df['musician'] ==\"jingletv\") | (df['musician'] ==\"jıngle tv\"), 'musician']= \"jingleTV\"\n",
    "df.loc[(df['musician'] ==\"alpay göktekin ,zeynep alasya\") | (df['musician'] ==\"alpay goltekin ,zeynep alasya\") , 'musician']= \"alpay göltekin ,zeynep alasya\"\n",
    "df.loc[(df['musician'] ==\"aydın sarman,burcu güven\") | (df['musician'] ==\"aydın sarman, burcu güven\"), 'musician']= \"aydın sarman ,burcu güven\"\n",
    "df.loc[(df['musician'] ==\"aytug yargiç\") , 'musician']= \"aytuğ yargıç\"\n",
    "df.loc[df['musician'] ==\"cenk durmazel, cenk sarkuş\", 'musician']=\"cenk durmazel ,cenk sarkuş\"\n",
    "df.loc[df['musician'] ==\"enc\", 'musician']= np.NaN\n",
    "df.loc[df['musician'] ==\"fahir atakoglu\", 'musician']=\"fahir atakoğlu\"\n",
    "df.loc[df['musician'] ==\"firat yukselir\", 'musician']=\"fırat yükselir\"\n",
    "df.loc[df['musician'] ==\"gökhan kirdar\", 'musician']=\"gökhan kırdar\"\n",
    "df.loc[df['musician'] ==\"günay uysal\", 'musician']=\"günay ünsal\"\n",
    "df.loc[df['musician'] ==\"kiraç\", 'musician']=\"kıraç\"\n",
    "df.loc[(df['musician'] ==\"mehmet andiçen,baris aryay\") | (df['musician'] ==\"mehmet andiçen, baris aryay\"), 'musician']= \"mehmet andiçen ,barış aryay\"\n",
    "df.loc[df['musician'] ==\"tamer ciray\", 'musician']=\"tamer çıray\"\n",
    "df.loc[df['musician'] ==\"yildiray gürgen\", 'musician']=\"yıldıray gürgen\""
   ]
  },
  {
   "cell_type": "code",
   "execution_count": null,
   "metadata": {},
   "outputs": [],
   "source": [
    "#Counts the unique values and present them in descending order\n",
    "df[\"musician\"].value_counts().sort_index()"
   ]
  },
  {
   "cell_type": "code",
   "execution_count": null,
   "metadata": {
    "scrolled": false
   },
   "outputs": [],
   "source": [
    "# Plot a histogram with bins=20 to see distribution of data before filling the missing data\n",
    "plt.figure(figsize=(40,8))\n",
    "df[\"musician\"].value_counts().plot(kind='bar',title=\"Bar of musician Column with NaN Values\")"
   ]
  },
  {
   "cell_type": "code",
   "execution_count": null,
   "metadata": {},
   "outputs": [],
   "source": [
    "# Backward fill using fillna() method=\"bfill\"\n",
    "df[\"musician\"]=df[\"musician\"].fillna(method=\"bfill\")"
   ]
  },
  {
   "cell_type": "code",
   "execution_count": null,
   "metadata": {},
   "outputs": [],
   "source": [
    "#Check all missing values have been filled\n",
    "df[\"musician\"].isnull().sum()"
   ]
  },
  {
   "cell_type": "code",
   "execution_count": null,
   "metadata": {},
   "outputs": [],
   "source": [
    "# Plot a histogram with bins=20 to see distribution of data after filling the missing values\n",
    "plt.figure(figsize=(40,8))\n",
    "df[\"musician\"].value_counts().plot(kind='bar',title=\"Bar of musician Column without NaN Values\")"
   ]
  },
  {
   "cell_type": "markdown",
   "metadata": {},
   "source": [
    "## Fill Missing Values by New Value"
   ]
  },
  {
   "cell_type": "markdown",
   "metadata": {},
   "source": [
    "### Fill genre2 column"
   ]
  },
  {
   "cell_type": "code",
   "execution_count": null,
   "metadata": {},
   "outputs": [],
   "source": [
    "#Counts the unique values and present them in descending order\n",
    "df[\"genre2\"].value_counts().sort_index()"
   ]
  },
  {
   "cell_type": "code",
   "execution_count": null,
   "metadata": {},
   "outputs": [],
   "source": [
    "#Edit some values that contain spelling mistakes to keep data consistent \n",
    "df.loc[(df['genre2'] ==\"Famiy\") |(df['genre2'] ==\"Familly\") , 'genre2']=\"Family\""
   ]
  },
  {
   "cell_type": "code",
   "execution_count": null,
   "metadata": {},
   "outputs": [],
   "source": [
    "#Counts the unique values and present them in descending order\n",
    "df[\"genre2\"].value_counts().sort_index()"
   ]
  },
  {
   "cell_type": "code",
   "execution_count": null,
   "metadata": {},
   "outputs": [],
   "source": [
    "# Plot a histogram with bins=20 to see distribution of data before filling the missing values\n",
    "plt.figure(figsize=(20,8))\n",
    "df[\"genre2\"].value_counts().plot(kind='bar',title=\"Bar of genre2 Column with NaN Values\")"
   ]
  },
  {
   "cell_type": "code",
   "execution_count": null,
   "metadata": {},
   "outputs": [],
   "source": [
    "# Replace NaN values with new value\n",
    "df[\"genre2\"] = df[\"genre2\"].replace(np.NaN, \"No second genre\")"
   ]
  },
  {
   "cell_type": "code",
   "execution_count": null,
   "metadata": {
    "scrolled": true
   },
   "outputs": [],
   "source": [
    "# Plot a histogram with bins=20 to see distribution of data after filling the missing \n",
    "plt.figure(figsize=(20,8))\n",
    "df[\"genre2\"].value_counts().plot(kind='bar',title=\"Bar of genre2 Column without NaN Values\")"
   ]
  },
  {
   "cell_type": "markdown",
   "metadata": {},
   "source": [
    "### Fill createdBy column"
   ]
  },
  {
   "cell_type": "code",
   "execution_count": null,
   "metadata": {},
   "outputs": [],
   "source": [
    "#Removes spaces at the beginning and end of the string values\n",
    "df[\"createdBy\"] = df.createdBy.str.strip()"
   ]
  },
  {
   "cell_type": "code",
   "execution_count": null,
   "metadata": {},
   "outputs": [],
   "source": [
    "#Removes the comma from the end of the string values\n",
    "df['createdBy'] = df['createdBy'].str.replace(r',$', '')"
   ]
  },
  {
   "cell_type": "code",
   "execution_count": null,
   "metadata": {},
   "outputs": [],
   "source": [
    "#Converts all characters to lowercase\n",
    "df['createdBy'] = df['createdBy'].str.lower()"
   ]
  },
  {
   "cell_type": "code",
   "execution_count": null,
   "metadata": {},
   "outputs": [],
   "source": [
    "#Removes spaces at the beginning and end of the string values after removing the comma\n",
    "df[\"createdBy\"] = df.createdBy.str.strip()"
   ]
  },
  {
   "cell_type": "code",
   "execution_count": null,
   "metadata": {},
   "outputs": [],
   "source": [
    "#Counts the unique values and present them in descending order\n",
    "df[\"createdBy\"].value_counts().sort_index()"
   ]
  },
  {
   "cell_type": "code",
   "execution_count": null,
   "metadata": {},
   "outputs": [],
   "source": [
    "#Edit some values that contain spelling mistakes to keep data consistent \n",
    "df.loc[df['createdBy']=='osman sinav','createdBy']='osman sınav'\n",
    "df.loc[df['createdBy']=='osman yagmurdereli','createdBy']='osman yağmurdereli'\n",
    "df.loc[(df['createdBy']=='türker inanoglu')|(df['createdBy']=='türler i̇nanoğlu'),'createdBy']='türker i̇nanoğlu'\n",
    "df.loc[df['createdBy']=='yaşar i̇lvur','createdBy']='yaşar i̇rvül'"
   ]
  },
  {
   "cell_type": "code",
   "execution_count": null,
   "metadata": {},
   "outputs": [],
   "source": [
    "#Plot a histogram with bins=20 to see distribution of data before filling the missing values\n",
    "plt.figure(figsize=(40,8))\n",
    "df[\"createdBy\"].value_counts().plot(kind='bar',title=\"Bar of createdBy Column with NaN Values\")"
   ]
  },
  {
   "cell_type": "code",
   "execution_count": null,
   "metadata": {},
   "outputs": [],
   "source": [
    "#Replace NaN values with new value\n",
    "df[\"createdBy\"] = df[\"createdBy\"].replace(np.NaN, \"Unknown\")"
   ]
  },
  {
   "cell_type": "code",
   "execution_count": null,
   "metadata": {},
   "outputs": [],
   "source": [
    "#Plot a histogram with bins=20 to see distribution of data after filling the missing values\n",
    "plt.figure(figsize=(40,8))\n",
    "df[\"createdBy\"].value_counts().plot(kind='bar',title=\"Bar of createdBy Column without NaN Values\")"
   ]
  },
  {
   "cell_type": "markdown",
   "metadata": {},
   "source": [
    "## Fill Missing Values by Original Values"
   ]
  },
  {
   "cell_type": "markdown",
   "metadata": {},
   "source": [
    "### Fill director column"
   ]
  },
  {
   "cell_type": "code",
   "execution_count": null,
   "metadata": {},
   "outputs": [],
   "source": [
    "#Counts the unique values and present them in descending order\n",
    "df[\"director\"].value_counts().sort_index()"
   ]
  },
  {
   "cell_type": "code",
   "execution_count": null,
   "metadata": {},
   "outputs": [],
   "source": [
    "#Removes spaces at the beginning and end of the string values\n",
    "df[\"director\"] = df.director.str.strip()"
   ]
  },
  {
   "cell_type": "code",
   "execution_count": null,
   "metadata": {},
   "outputs": [],
   "source": [
    "#Removes comma from the end of the string values\n",
    "df['director'] = df['director'].str.replace(r',$', '')"
   ]
  },
  {
   "cell_type": "code",
   "execution_count": null,
   "metadata": {},
   "outputs": [],
   "source": [
    "#Converts all characters to lowercase\n",
    "df['director'] = df['director'].str.lower()"
   ]
  },
  {
   "cell_type": "code",
   "execution_count": null,
   "metadata": {},
   "outputs": [],
   "source": [
    "#Removes spaces at the beginning and end of the string values after removing the comma\n",
    "df[\"director\"] = df.director.str.strip()"
   ]
  },
  {
   "cell_type": "code",
   "execution_count": null,
   "metadata": {},
   "outputs": [],
   "source": [
    "#Counts the unique values and present them in descending order\n",
    "df[\"director\"].value_counts().sort_index()"
   ]
  },
  {
   "cell_type": "code",
   "execution_count": null,
   "metadata": {},
   "outputs": [],
   "source": [
    "#Edit some values that contain spelling mistakes to keep data consistent \n",
    "df.loc[df['director'] ==\"aydin bulut\", 'director']=\"aydın bulut\"\n",
    "df.loc[df['director'] ==\"bahadar i̇nce\", 'director']=\"bahadır i̇nce\"\n",
    "df.loc[df['director'] ==\"baris erçetin\", 'director']=\"barış erçetin\"\n",
    "df.loc[df['director'] ==\"gökçen usta çaylar\", 'director']=\"gökçen usta\"\n",
    "df.loc[df['director'] ==\"jale atabey özberk\", 'director']=\"jale atabey\"\n",
    "df.loc[df['director'] ==\"kemal uzuni\", 'director']=\"kemal uzun\"\n",
    "df.loc[df['director'] ==\"merve girgin aytekin\", 'director']=\"merve girgin\"\n",
    "df.loc[(df['director'] ==\"mesude erarslan tekin\") | (df['director'] ==\"mesude eraslan\"), 'director']=\"mesude erarslan\"\n",
    "df.loc[df['director'] ==\"murat can oguz\", 'director']=\"murat can oğuz\"\n",
    "df.loc[df['director'] ==\"osman sinav\", 'director']=\"osman sınav\"\n",
    "df.loc[df['director'] ==\"sadullah celrn\", 'director']=\"sadullah celen\"\n",
    "df.loc[(df['director'] ==\"türkân derya güven\")|(df['director'] ==\"türkan derya güven\"), 'director']=\"türkan derya\"\n",
    "df.loc[df['director'] ==\"ulaş i̇nan i̇nanç\", 'director']=\"ulaş i̇naç\"\n",
    "df.loc[df['director'] ==\"yasin ünlü\", 'director']=\"yasin uslu\""
   ]
  },
  {
   "cell_type": "code",
   "execution_count": null,
   "metadata": {},
   "outputs": [],
   "source": [
    "# Plot a bar chart with bins=20 to see distribution of data before filling the missing values\n",
    "plt.figure(figsize=(40,8))\n",
    "df[\"director\"].value_counts().plot(kind='bar',title=\"Bar of director Column with NaN Values\")"
   ]
  },
  {
   "cell_type": "code",
   "execution_count": null,
   "metadata": {},
   "outputs": [],
   "source": [
    "df.loc[df['director'].isnull(), ]"
   ]
  },
  {
   "cell_type": "code",
   "execution_count": null,
   "metadata": {},
   "outputs": [],
   "source": [
    "#These have more than one director\n",
    "#1. The Protector\n",
    "df.loc[df['original_name'] ==\"The Protector\", 'director']=\"can evrenol\"\n",
    "#2. Meleklerin Aşkı\n",
    "df.loc[df['original_name'] ==\"Meleklerin Aşkı\", 'director']=\"ersoy güler\"\n",
    "#3. Masum Değiliz\t\n",
    "df.loc[df['original_name'] ==\"Masum Değiliz\", 'director']=\"levent turkan\"\n",
    "#4. Kanatsız Kuşlar\t\n",
    "df.loc[df['original_name'] ==\"Kanatsız Kuşlar\", 'director']=\"adnan güler\"\n",
    "#5. İsimsizler\t\n",
    "df.loc[df['original_name'] ==\"İsimsizler\", 'director']=\"volkan kocatürk\"\n",
    "#6. Ömre Bedel\t\n",
    "df.loc[df['original_name'] ==\"Ömre Bedel\", 'director']=\"nihat durak\"\n",
    "#7. Kurtlar Vadisi: Pusu\n",
    "df.loc[df['original_name'] ==\"Kurtlar Vadisi: Pusu\", 'director']=\"onur tan\"\n",
    "#8. Küçük Ağa\t\n",
    "df.loc[df['original_name'] ==\"Küçük Ağa\", 'director']=\"erol özlevi\"\n",
    "#9. Yanık Koza\t\n",
    "df.loc[df['original_name'] ==\"Yanık Koza\", 'director']=\"mesude erarslan\"\n",
    "#These just have one director\n",
    "#10. İki Arada Aşk\n",
    "df.loc[df['original_name'] ==\"İki Arada Aşk\", 'director']=\"sibel kocataş\"\n",
    "#11. Gülbeyaz\t\n",
    "df.loc[df['original_name'] ==\"Gülbeyaz\", 'director']=\"özer kiziltan\""
   ]
  },
  {
   "cell_type": "code",
   "execution_count": null,
   "metadata": {},
   "outputs": [],
   "source": [
    "#Check all missing values have been filled\n",
    "df[\"director\"].isnull().sum()"
   ]
  },
  {
   "cell_type": "code",
   "execution_count": null,
   "metadata": {},
   "outputs": [],
   "source": [
    "# Plot a bar chart with bins=20 to see distribution of data after filling the missing values\n",
    "plt.figure(figsize=(40,8))\n",
    "df[\"director\"].value_counts().plot(kind='bar',title=\"Bar of director Column without NaN Values\")"
   ]
  },
  {
   "cell_type": "markdown",
   "metadata": {},
   "source": [
    "### Fill writer column"
   ]
  },
  {
   "cell_type": "code",
   "execution_count": null,
   "metadata": {},
   "outputs": [],
   "source": [
    "#Removes spaces at the beginning and end of the string values\n",
    "df[\"writer\"] = df.writer.str.strip()"
   ]
  },
  {
   "cell_type": "code",
   "execution_count": null,
   "metadata": {},
   "outputs": [],
   "source": [
    "#Removes comma from the end of the string values\n",
    "df['writer'] = df['writer'].str.replace(r',$', '')"
   ]
  },
  {
   "cell_type": "code",
   "execution_count": null,
   "metadata": {},
   "outputs": [],
   "source": [
    "#Converts all characters to lowercase\n",
    "df['writer'] = df['writer'].str.lower()"
   ]
  },
  {
   "cell_type": "code",
   "execution_count": null,
   "metadata": {},
   "outputs": [],
   "source": [
    "#Removes spaces at the beginning and end of the string values after removing the comma\n",
    "df[\"writer\"] = df.writer.str.strip()"
   ]
  },
  {
   "cell_type": "code",
   "execution_count": null,
   "metadata": {},
   "outputs": [],
   "source": [
    "#Counts the unique values and present them in descending order\n",
    "df[\"writer\"].value_counts().sort_index()"
   ]
  },
  {
   "cell_type": "code",
   "execution_count": null,
   "metadata": {},
   "outputs": [],
   "source": [
    "#Edit some values that contain spelling mistakes to keep data consistent \n",
    "df.loc[df['writer']=='başak yaz odası','writer']='başak yazı odası'\n",
    "df.loc[(df['writer']=='ece yörenç,melek gençoğlu')|(df['writer']=='ece yörenç, melek gençoğlu'),'writer']='ece yörenç ,melek gençoglu'\n",
    "df.loc[df['writer']=='elif usman ergüden','writer']='elif usman'\n",
    "df.loc[(df['writer']=='kemal kenan ergen, kamuran süner')|(df['writer']=='kemal kenan ergen,kamuran süner'),'writer']='kemal kenan ergen ,kamuran süner'\n",
    "df.loc[(df['writer']=='meral okay, yılmaz şahin')|(df['writer']=='meral okay , yılmaz şahin'),'writer']='meral okay ,yılmaz şahin'\n",
    "df.loc[(df['writer']=='sema ergenekon,eylem canpolat')|(df['writer']=='sema ergenekon, eylem canpolat'),'writer']='sema ergenekon ,eylem canpolat'\n",
    "df.loc[df['writer']=='rüya i̇şçiler','writer']='rüya i̇şçileri'\n",
    "df.loc[df['writer']=='nilgün önes','writer']='nilgün öneş'\n",
    "df.loc[df['writer']=='zülkuf yücel','writer']='zülküf yücel'\n",
    "df.loc[df['writer']=='tayfun güneyen','writer']='tayfun güneyer'"
   ]
  },
  {
   "cell_type": "code",
   "execution_count": null,
   "metadata": {},
   "outputs": [],
   "source": [
    "#Return the series with unknown writers\n",
    "df.loc[df['writer'].isnull(),:]"
   ]
  },
  {
   "cell_type": "code",
   "execution_count": null,
   "metadata": {},
   "outputs": [],
   "source": [
    "#Fill the writer names by \"original name\" of the show \n",
    "\n",
    "#1. Kurtlar Vadisi: Pusu\n",
    "df.loc[df['original_name']=='Kurtlar Vadisi: Pusu','writer']= 'Raci Şaşmaz ,Bahadır Özdener ,Cüneyt Aysan ,Pana Yazım Grubu ,Murat Koca ,Cahit Kayaoğlu ,Selma Hacıosmanoğlu ,Ayşegül Hacıosmanoğlu'\n",
    "#2. Ahh İstanbul\n",
    "df.loc[df['original_name']=='Ahh İstanbul','writer']= 'mahinur ergun'\n",
    "#3. Ezo Gelin\n",
    "df.loc[df['original_name']=='Ezo Gelin','writer']= 'Memed Onur Özkök , Onur Tan ,Mahinur Ergun ,Ahmet Yurdakul ,Arda Uskan'\n",
    "#4. Çifte Bela\n",
    "df.loc[df['original_name']=='Çifte Bela','writer']= 'Kasim Uçkan'\n",
    "#5. Cesaretin Var Mı Aşka\n",
    "df.loc[df['original_name']=='Cesaretin Var Mı Aşka','writer']= 'Yann Samuell'\n",
    "#6. Sıfır Bir\n",
    "df.loc[df['original_name']=='Sıfır Bir','writer']= 'unknown'\n",
    "#7. Aşk Ekmek Hayaller\n",
    "df.loc[df['original_name']=='Aşk Ekmek Hayaller','writer']= 'unknown'\n",
    "\n",
    "#print(df.iloc[239,:],\",\",df.iloc[242,:],\",\",df.iloc[245,:],\",\",df.iloc[266,:],\",\",df.iloc[391,:],\",\",df.iloc[134,:],\",\",df.iloc[309,:])"
   ]
  },
  {
   "cell_type": "code",
   "execution_count": null,
   "metadata": {},
   "outputs": [],
   "source": [
    "#Check all missing values have been filled\n",
    "df['writer'] = df['writer'].str.lower()"
   ]
  },
  {
   "cell_type": "markdown",
   "metadata": {},
   "source": [
    "### Fill networks column"
   ]
  },
  {
   "cell_type": "code",
   "execution_count": null,
   "metadata": {},
   "outputs": [],
   "source": [
    "df.loc[df['networks'].isnull(),:]"
   ]
  },
  {
   "cell_type": "code",
   "execution_count": null,
   "metadata": {},
   "outputs": [],
   "source": [
    "#Removes spaces at the beginning and end of the string values\n",
    "df[\"networks\"] = df.networks.str.strip()"
   ]
  },
  {
   "cell_type": "code",
   "execution_count": null,
   "metadata": {},
   "outputs": [],
   "source": [
    "#Counts the unique values \n",
    "df['networks'].value_counts()"
   ]
  },
  {
   "cell_type": "code",
   "execution_count": null,
   "metadata": {},
   "outputs": [],
   "source": [
    "#Edit some values that contain spelling mistakes to keep data consistent \n",
    "df.loc[df['networks']=='kanal D','networks']='Kanal D'\n",
    "df.loc[df['networks']=='Show Tv','networks']='Show TV'\n",
    "df.loc[df['networks']=='Tv8','networks']='TV8'\n",
    "df.loc[df['networks']=='ATV','networks']='atv'\n"
   ]
  },
  {
   "cell_type": "code",
   "execution_count": null,
   "metadata": {},
   "outputs": [],
   "source": [
    "#Fill the missing networks by thier original values\n",
    "\n",
    "#Benim Için Üzülme\n",
    "df.loc[df['original_name']=='Benim Için Üzülme','networks'] = 'Show TV'\n",
    "#Gecenin Kraliçesi\n",
    "df.loc[df['original_name']=='Gecenin Kraliçesi','networks'] = 'Star TV'\n",
    "#Gece Yürüyüşü\n",
    "df.loc[df['original_name']=='Gece Yürüyüşü','networks'] = 'Unknown'\n",
    "#Hırsız\n",
    "df.loc[df['original_name']=='Hırsız','networks'] = 'atv'\n",
    "#Deli Saraylı\n",
    "df.loc[df['original_name']=='Deli Saraylı','networks'] = 'Show TV'"
   ]
  },
  {
   "cell_type": "code",
   "execution_count": null,
   "metadata": {},
   "outputs": [],
   "source": [
    "df.loc[df['networks'].isnull(),:]"
   ]
  },
  {
   "cell_type": "markdown",
   "metadata": {},
   "source": [
    "### Fill secondStar column"
   ]
  },
  {
   "cell_type": "code",
   "execution_count": null,
   "metadata": {},
   "outputs": [],
   "source": [
    "df.loc[df['secondStar'].isnull(),]"
   ]
  },
  {
   "cell_type": "code",
   "execution_count": null,
   "metadata": {},
   "outputs": [],
   "source": [
    "#Acayip Hikayeler\n",
    "df.loc[df['original_name']=='Acayip Hikayeler','secondStar']='Levent Güner'"
   ]
  },
  {
   "cell_type": "code",
   "execution_count": null,
   "metadata": {},
   "outputs": [],
   "source": [
    "df.loc[df['secondStar'].isnull(),]"
   ]
  },
  {
   "cell_type": "markdown",
   "metadata": {},
   "source": [
    "### Fill thirdStar column"
   ]
  },
  {
   "cell_type": "code",
   "execution_count": null,
   "metadata": {},
   "outputs": [],
   "source": [
    "df.loc[df['thirdStar'].isnull(),]"
   ]
  },
  {
   "cell_type": "code",
   "execution_count": null,
   "metadata": {},
   "outputs": [],
   "source": [
    "#Acayip Hikayeler\n",
    "df.loc[df['original_name']=='Acayip Hikayeler','thirdStar']='Zeynep Tuncay'\n",
    "#1 Kadın 1 Erkek\n",
    "df.loc[df['original_name']=='1 Kadın 1 Erkek','thirdStar']='Hande Subasi'\n",
    "#Keşanlı Ali Destanı\n",
    "df.loc[df['original_name']=='Keşanlı Ali Destanı','thirdStar']='Turgut Tuncalp'\n",
    "#Pars: Narkoterör\n",
    "df.loc[df['original_name']=='Pars: Narkoterör','thirdStar']='Murat Ergun'\n",
    "#1 Erkek 1 Kadın 2 Çocuk \n",
    "df.loc[df['original_name']=='1 Erkek 1 Kadın 2 Çocuk','thirdStar']='No thirdStar'"
   ]
  },
  {
   "cell_type": "code",
   "execution_count": null,
   "metadata": {},
   "outputs": [],
   "source": [
    "df.loc[df['thirdStar'].isnull(),]"
   ]
  },
  {
   "cell_type": "markdown",
   "metadata": {},
   "source": [
    "## Fill Missing Values by Mode"
   ]
  },
  {
   "cell_type": "markdown",
   "metadata": {},
   "source": [
    "### Fill air_time column"
   ]
  },
  {
   "cell_type": "code",
   "execution_count": null,
   "metadata": {},
   "outputs": [],
   "source": [
    "# Plot a bar chart with bins=20 to see distribution of data before filling the missing values\n",
    "plt.figure(figsize=(20,8))\n",
    "df[\"air_time\"].value_counts().plot(kind='bar',title=\"Bar of air_time Column with NaN Values\")"
   ]
  },
  {
   "cell_type": "code",
   "execution_count": null,
   "metadata": {},
   "outputs": [],
   "source": [
    "# Calculate mode\n",
    "airtime_col_mode = df[\"air_time\"].mode()[0]\n",
    "airtime_col_mode"
   ]
  },
  {
   "cell_type": "code",
   "execution_count": null,
   "metadata": {},
   "outputs": [],
   "source": [
    "# Replace NaN values with mode\n",
    "df[\"air_time\"] = df[\"air_time\"].replace(np.NaN, airtime_col_mode)"
   ]
  },
  {
   "cell_type": "code",
   "execution_count": null,
   "metadata": {
    "scrolled": true
   },
   "outputs": [],
   "source": [
    "# Plot a bar chart with bins=20 to see distribution of data after filling the missing values\n",
    "plt.figure(figsize=(20,8))\n",
    "df[\"air_time\"].value_counts().plot(kind='bar',title=\"Bar of air_time Column without NaN Values\")"
   ]
  },
  {
   "cell_type": "markdown",
   "metadata": {},
   "source": [
    "## Fill Missing Values by Mean"
   ]
  },
  {
   "cell_type": "markdown",
   "metadata": {},
   "source": [
    "### Fill episode_run_time column"
   ]
  },
  {
   "cell_type": "code",
   "execution_count": null,
   "metadata": {},
   "outputs": [],
   "source": [
    "# Plot a histogram with bins=20 to see distribution of data before filling the missing values\n",
    "df[\"episode_run_time\"].plot(kind=\"hist\", bins=20, title=\"Histogram of episode_run_time column with NaN Values\")"
   ]
  },
  {
   "cell_type": "code",
   "execution_count": null,
   "metadata": {},
   "outputs": [],
   "source": [
    "# Calculate mean\n",
    "episode_run_time_col_mean = round(df[\"episode_run_time\"].mean())\n",
    "episode_run_time_col_mean"
   ]
  },
  {
   "cell_type": "code",
   "execution_count": null,
   "metadata": {},
   "outputs": [],
   "source": [
    "# Replace NaN values with the mean\n",
    "df[\"episode_run_time\"] = df[\"episode_run_time\"].fillna(episode_run_time_col_mean)\n",
    "df[\"episode_run_time\"].isnull().sum()"
   ]
  },
  {
   "cell_type": "code",
   "execution_count": null,
   "metadata": {},
   "outputs": [],
   "source": [
    "# Plot a histogram with bins=20 to see distribution of data after filling the missing values\n",
    "df[\"episode_run_time\"].plot(kind=\"hist\", bins=20, title=\"Histogram of episode_run_time column without NaN Values\")"
   ]
  },
  {
   "cell_type": "markdown",
   "metadata": {},
   "source": [
    "### Fill adaptation column"
   ]
  },
  {
   "cell_type": "code",
   "execution_count": null,
   "metadata": {},
   "outputs": [],
   "source": [
    "# Plot a histogram with bins=20 to see distribution of data before filling the missing values\n",
    "df[\"adaptation\"].plot(kind=\"hist\", bins=20, title=\"Histogram of adaptation column with NaN Values\")"
   ]
  },
  {
   "cell_type": "code",
   "execution_count": null,
   "metadata": {},
   "outputs": [],
   "source": [
    "# Calculate mean\n",
    "adaptation_col_mean = round(df[\"adaptation\"].mean())\n",
    "adaptation_col_mean"
   ]
  },
  {
   "cell_type": "code",
   "execution_count": null,
   "metadata": {},
   "outputs": [],
   "source": [
    "# Replace NaN values with the mean\n",
    "df[\"adaptation\"] = df[\"adaptation\"].fillna(adaptation_col_mean)\n",
    "df[\"adaptation\"].isnull().sum()"
   ]
  },
  {
   "cell_type": "code",
   "execution_count": null,
   "metadata": {},
   "outputs": [],
   "source": [
    "# Plot a histogram with bins=20 to see distribution of data after filling the missing values\n",
    "df[\"adaptation\"].plot(kind=\"hist\", bins=20, title=\"Histogram of adaptation column without NaN Values\")"
   ]
  },
  {
   "cell_type": "markdown",
   "metadata": {},
   "source": [
    "## Edit Values of Columns "
   ]
  },
  {
   "cell_type": "markdown",
   "metadata": {},
   "source": [
    "### Edit genre1 values"
   ]
  },
  {
   "cell_type": "code",
   "execution_count": null,
   "metadata": {},
   "outputs": [],
   "source": [
    "#Removes spaces at the beginning and end of the string values\n",
    "df[\"genre1\"] = df.genre1.str.strip()"
   ]
  },
  {
   "cell_type": "code",
   "execution_count": null,
   "metadata": {},
   "outputs": [],
   "source": [
    "#Counts the unique values and present them in descending order\n",
    "df['genre1'].value_counts().sort_index()"
   ]
  },
  {
   "cell_type": "markdown",
   "metadata": {},
   "source": [
    "### Edit firstStar values"
   ]
  },
  {
   "cell_type": "code",
   "execution_count": null,
   "metadata": {},
   "outputs": [],
   "source": [
    "#Removes spaces at the beginning and end of the string values\n",
    "df[\"firstStar\"] = df.firstStar.str.strip()"
   ]
  },
  {
   "cell_type": "code",
   "execution_count": null,
   "metadata": {},
   "outputs": [],
   "source": [
    "#Counts the unique values and present them in descending order\n",
    "df['firstStar'].value_counts().sort_index()"
   ]
  },
  {
   "cell_type": "code",
   "execution_count": null,
   "metadata": {},
   "outputs": [],
   "source": [
    "#Edit some values that contain spelling mistakes to keep data consistent \n",
    "df.loc[df['firstStar']=='Fikret Kuskan','firstStar']='Fikret Kuşkan'\n",
    "df.loc[df['firstStar']=='Kenan imirzalıoğlu','firstStar']='Kenan İmirzalıoğlu'\n",
    "df.loc[df['firstStar']=='Nebahat Cehre','firstStar']='Nebahat Çehre'"
   ]
  },
  {
   "cell_type": "markdown",
   "metadata": {},
   "source": [
    "### Edit secondStar values"
   ]
  },
  {
   "cell_type": "code",
   "execution_count": null,
   "metadata": {},
   "outputs": [],
   "source": [
    "#Removes spaces at the beginning and end of the string values\n",
    "df[\"secondStar\"] = df.secondStar.str.strip()"
   ]
  },
  {
   "cell_type": "code",
   "execution_count": null,
   "metadata": {},
   "outputs": [],
   "source": [
    "#Counts the unique values and present them in descending order\n",
    "df['secondStar'].value_counts().sort_index()"
   ]
  },
  {
   "cell_type": "code",
   "execution_count": null,
   "metadata": {},
   "outputs": [],
   "source": [
    "#Edit some values that contain spelling mistakes to keep data consistent \n",
    "df.loc[df['secondStar']=='Engin Akyurek','secondStar']='Engin Akyürek'\n",
    "df.loc[df['secondStar']=='Merve Bolugur','secondStar']='Merve Boluğur'\n",
    "df.loc[df['secondStar']=='Türkân Şoray','secondStar']='Türkan Şoray'"
   ]
  },
  {
   "cell_type": "markdown",
   "metadata": {},
   "source": [
    "### Edit thirdStar values"
   ]
  },
  {
   "cell_type": "code",
   "execution_count": null,
   "metadata": {},
   "outputs": [],
   "source": [
    "#Removes spaces at the beginning and end of the string values\n",
    "df[\"thirdStar\"] = df.thirdStar.str.strip()"
   ]
  },
  {
   "cell_type": "code",
   "execution_count": null,
   "metadata": {},
   "outputs": [],
   "source": [
    "#Counts the unique values and present them in descending order\n",
    "df['thirdStar'].value_counts().sort_index()"
   ]
  },
  {
   "cell_type": "code",
   "execution_count": null,
   "metadata": {},
   "outputs": [],
   "source": [
    "#Edit some values that contain spelling mistakes to keep data consistent \n",
    "df.loc[df['thirdStar']=='Engin Altan','thirdStar']='Engin Altan Düzyatan'\n",
    "df.loc[df['thirdStar']=='Tarık Papuçcuoğlu','thirdStar']='Tarık Papuççuoğlu'\n",
    "df.loc[df['thirdStar']=='Nur Fettahoglu','thirdStar']='Nur Fettahoğlu'\n",
    "df.loc[df['thirdStar']=='Vahide Percin','thirdStar']='Vahide Perçin'"
   ]
  },
  {
   "cell_type": "markdown",
   "metadata": {},
   "source": [
    "### Make names of stars consistent between the three columns"
   ]
  },
  {
   "cell_type": "code",
   "execution_count": null,
   "metadata": {},
   "outputs": [],
   "source": [
    "#Show the unique values of stars names in descending order\n",
    "stars_names = pd.concat([df['firstStar'], df['secondStar'],df['thirdStar']]).unique()\n",
    "stars_names.sort()\n",
    "stars_names"
   ]
  },
  {
   "cell_type": "code",
   "execution_count": null,
   "metadata": {},
   "outputs": [],
   "source": [
    "#Edit some values that contain spelling mistakes to keep data consistent across the three columns\n",
    "\n",
    "df.loc[(df['thirdStar']=='Alpay Atalan'),'thirdStar']='Alpay Kemal Atalan'\n",
    "\n",
    "df.loc[df['thirdStar']=='Cemal Toktas','thirdStar'] =\"Cemal Toktaş\"\n",
    "\n",
    "df.loc[(df['firstStar']=='Engin Akyurek'),'firstStar']=\"Engin Akyürek\"\n",
    "\n",
    "df.loc[df['thirdStar']=='Hande Subasi','thirdStar'] =\"Hande Subaşı\"\n",
    "\n",
    "df.loc[df['thirdStar']=='Kadir Dogulu','thirdStar'] =\"Kadir Doğulu\"\n",
    "\n",
    "df.loc[df['secondStar']=='Nebahat Cehre','secondStar'] =\"Nebahat Çehre\"\n",
    "\n",
    "df.loc[(df['firstStar']=='Türkân Şoray'),'firstStar'] =\"Türkan Şoray\"\n",
    "\n",
    "df.loc[df['thirdStar']=='Yasemin Allen','thirdStar'] =\"Yasemin Kay Allen\"\n",
    "\n",
    "df.loc[(df['firstStar']=='Ümit Kantarcılar'),'firstStar'] = 'Ümit İbrahim Kantarcılar'"
   ]
  },
  {
   "cell_type": "markdown",
   "metadata": {},
   "source": [
    "# Test The Dataset Completeness After Cleaning"
   ]
  },
  {
   "cell_type": "code",
   "execution_count": null,
   "metadata": {},
   "outputs": [],
   "source": [
    "df.isnull().sum()"
   ]
  },
  {
   "cell_type": "code",
   "execution_count": null,
   "metadata": {},
   "outputs": [],
   "source": [
    "df.head()"
   ]
  },
  {
   "cell_type": "code",
   "execution_count": null,
   "metadata": {},
   "outputs": [],
   "source": [
    "df.tail()"
   ]
  },
  {
   "cell_type": "markdown",
   "metadata": {},
   "source": [
    "# Exporting Dataset"
   ]
  },
  {
   "cell_type": "code",
   "execution_count": null,
   "metadata": {},
   "outputs": [],
   "source": [
    "#Export the dataframe as CSV file\n",
    "df.to_csv(r'Clean_TurkishTV_Data.csv', index = False)"
   ]
  }
 ],
 "metadata": {
  "kernelspec": {
   "display_name": "Python 3",
   "language": "python",
   "name": "python3"
  },
  "language_info": {
   "codemirror_mode": {
    "name": "ipython",
    "version": 3
   },
   "file_extension": ".py",
   "mimetype": "text/x-python",
   "name": "python",
   "nbconvert_exporter": "python",
   "pygments_lexer": "ipython3",
   "version": "3.7.6"
  },
  "varInspector": {
   "cols": {
    "lenName": 16,
    "lenType": 16,
    "lenVar": 40
   },
   "kernels_config": {
    "python": {
     "delete_cmd_postfix": "",
     "delete_cmd_prefix": "del ",
     "library": "var_list.py",
     "varRefreshCmd": "print(var_dic_list())"
    },
    "r": {
     "delete_cmd_postfix": ") ",
     "delete_cmd_prefix": "rm(",
     "library": "var_list.r",
     "varRefreshCmd": "cat(var_dic_list()) "
    }
   },
   "types_to_exclude": [
    "module",
    "function",
    "builtin_function_or_method",
    "instance",
    "_Feature"
   ],
   "window_display": false
  }
 },
 "nbformat": 4,
 "nbformat_minor": 4
}
